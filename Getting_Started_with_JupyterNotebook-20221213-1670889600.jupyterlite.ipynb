{
 "cells": [
  {
   "cell_type": "markdown",
   "id": "fedc09f8-259c-4459-b3bb-038248b5891f",
   "metadata": {},
   "source": [
    "<p style=\"text-align:center\">\n",
    "    <a href=\"https://skills.network/?utm_medium=Exinfluencer&utm_source=Exinfluencer&utm_content=000026UJ&utm_term=10006555&utm_id=NA-SkillsNetwork-Channel-SkillsNetworkCoursesIBMDeveloperSkillsNetworkPY0101ENSkillsNetwork19487395-2022-01-01\" target=\"_blank\">\n",
    "    <img src=\"https://cf-courses-data.s3.us.cloud-object-storage.appdomain.cloud/assets/logos/SN_web_lightmode.png\" width=\"200\" alt=\"Skills Network Logo\">\n",
    "    </a>\n",
    "</p>\n",
    "\n",
    "# Lab: Using Markdowns in Jupyter Notebooks\n",
    "\n",
    "Estimated time needed: **15** minutes\n",
    "\n",
    "Jupyter Notebooks are composed of code and markdown cells. Markdown cells are used to present text, images, etc. and are useful to document and explain the contents of your notebook. In this lab, you will become familiar with writing markdown.\n",
    "\n",
    "## Objectives\n",
    "\n",
    "After completing this lab, you will be able to:\n",
    "*\tIdentify in which Kernel your Jupyter notebook is running\n",
    "*\tCreate headings, and add text in bold and italics in Markdown\n",
    "*\tInsert links and images using Markdown\n",
    "*\tCreate Tables in Markdown\n",
    "*\tCreate ordered and unordered lists in Markdown\n",
    "*\tDemonstrate your proficiency in using Markdown in Jupyter notebooks\n"
   ]
  },
  {
   "cell_type": "markdown",
   "id": "a8f0a7e3-071b-4499-ac9b-2828a0536df6",
   "metadata": {},
   "source": [
    "# Exercise 1 \n",
    "\n",
    "### Kernels in Jupyter notebook\n",
    "\n",
    "* A notebook kernel is a computational engine that executes the code in a Notebook file. \n",
    "  \n",
    "* When the notebook is executed, the kernel performs the computation and produces the results. \n",
    "\n",
    "* On the top right corner you can see the name of the kernel. For instance, in JupyterLite, the default kernel is **Pyolite**. Similarly, if you are working on JupyterLab, the kernel will be **Python 3** or **Python 2**, depending on the version.\n",
    "\n",
    "<img src=\"https://cf-courses-data.s3.us.cloud-object-storage.appdomain.cloud/IBMDeveloperSkillsNetwork-DS0105EN-SkillsNetwork/labs/Labs_V4/images/kernelforjupyterlite.jpg\">\n",
    "\n",
    "\n",
    "* You can also run other kernels by choosing the preferred kernel on the **launch page** or by clicking the top right drop down menu to switch the kernel to the preferred kernel from the menu. \n",
    "\n",
    "* When the kernel is in execution, the state of the kernel is changed from **Idle** to the **Running** state.\n",
    "\n",
    "#### Try yourself:\n"
   ]
  },
  {
   "cell_type": "markdown",
   "id": "3e5eb542-a418-4049-967c-460b7826a438",
   "metadata": {},
   "source": [
    "* Click the running Kernel, For Example, **Pyolite**, to see which other kernels are available.<br/>\n",
    "\n",
    "  > _Please don't switch the existing kernel._\n"
   ]
  },
  {
   "cell_type": "markdown",
   "id": "be07f9e7-24c1-40ca-8ccd-cc1cfa0c7e3b",
   "metadata": {},
   "source": [
    "<details><summary>Click here for the solution</summary>\n",
    "\n",
    "The output looks as:\n",
    "\n",
    "<img src=\"https://cf-courses-data.s3.us.cloud-object-storage.appdomain.cloud/IBMDeveloperSkillsNetwork-DS0105EN-SkillsNetwork/labs/Labs_V4/images/kernel2.png\">\n",
    "\n",
    "</details>\n"
   ]
  },
  {
   "cell_type": "markdown",
   "id": "33ba61d7-4afa-4753-ae93-7b1aab661752",
   "metadata": {},
   "source": [
    "* Check the state of the kernel by clicking on the circle next to it.\n"
   ]
  },
  {
   "cell_type": "markdown",
   "id": "96df91fc-e134-4c28-aa2a-45ee6fae8f6d",
   "metadata": {},
   "source": [
    "<details><summary>Click here for the solution</summary>\n",
    "\n",
    "The output looks as:\n",
    "\n",
    "<img src=\"https://cf-courses-data.s3.us.cloud-object-storage.appdomain.cloud/IBMDeveloperSkillsNetwork-DS0105EN-SkillsNetwork/labs/Labs_V4/images/kernel3.png\">\n",
    "\n",
    "</details>\n"
   ]
  },
  {
   "cell_type": "markdown",
   "id": "910f1711-8a1d-4bf8-b188-3e2884372719",
   "metadata": {},
   "source": [
    "# Exercise 2\n",
    "### Create headings, and add text in bold and italics in Markdown\n",
    "\n",
    "Let us explore basic markdown elements such as: \n",
    "* Headings\n",
    "* Bold Text\n",
    "* ItalicText\n",
    "\n",
    "\n"
   ]
  },
  {
   "cell_type": "markdown",
   "id": "f827950a-2e97-43ac-a69b-08d5992dfe51",
   "metadata": {},
   "source": [
    "### Headings:\n",
    "\n",
    "* You can create headings by adding a <code>#</code> sign before a **word** or a **phrase**.\n",
    "\n",
    "   * There are six levels of headings.\n",
    "   * The number sign <code>#</code> indicate the level of heading for example **# Hello** corresponds to **level 1**,the highest level heading.\n",
    "   * Display the following text using six different heading levels.\n",
    "      * H1: This is a level 1 Heading\n",
    "      * H2: This is a level 2 Heading\n",
    "      * H3: This is a level 3 Heading\n",
    "      * H4: This is a level 4 Heading\n",
    "      * H5: This is a level 5 Heading\n",
    "      * H6: This is a level 6 Heading\n",
    " > Recall: to convert a code cell to markdown, first click inside the cell, then on the dropdown labelled **\"Code\"** in the toolbar and select **\"Markdown\"**. To run a cell, click inside the cell then press <kbd>Shift+Enter keys</kbd> together.    \n",
    "   <img src=\"https://cf-courses-data.s3.us.cloud-object-storage.appdomain.cloud/IBMDeveloperSkillsNetwork-DS0105EN-SkillsNetwork/labs/Labs_V4/images/markdown1.png\">\n",
    "   \n",
    "   * Convert the cell below to markdown cell and execute it.\n",
    "   * To see or edit the contents of a rendered Markdown cell after running it double-click on the cell. \n"
   ]
  },
  {
   "cell_type": "code",
   "execution_count": null,
   "id": "a2d27440-c1e8-45c1-8d1d-a7436e7e3fa8",
   "metadata": {},
   "outputs": [],
   "source": [
    "# Execute it as a markdown cell\n",
    "# H1: This is a level 1 Heading\n",
    "## H2: This is a level 2 Heading\n",
    "### H3: This is a level 3 Heading\n",
    "#### H4: This is a level 4 Heading\n",
    "##### H5: This is a level 5 Heading\n",
    "###### H6: This is a level 6 Heading"
   ]
  },
  {
   "cell_type": "markdown",
   "id": "2b17550a-376b-4b47-8b19-275d0625df0d",
   "metadata": {},
   "source": [
    "<details><summary>Click here for the solution</summary>\n",
    "\n",
    "The output looks as:\n",
    "\n",
    "<img src=\"https://cf-courses-data.s3.us.cloud-object-storage.appdomain.cloud/IBMDeveloperSkillsNetwork-DS0105EN-SkillsNetwork/labs/Labs_V4/images/markdown3.png\">\n",
    "\n",
    "<img src=\"https://cf-courses-data.s3.us.cloud-object-storage.appdomain.cloud/IBMDeveloperSkillsNetwork-DS0105EN-SkillsNetwork/labs/Labs_V4/images/markdown2.png\">\n",
    "\n",
    "</details>\n"
   ]
  },
  {
   "cell_type": "markdown",
   "id": "7c8d8f67-3405-4301-84cb-017724ed6636",
   "metadata": {},
   "source": [
    "### Bold Text\n",
    "\n",
    "* You can create bold text by adding two asterisks or underscores before and after a word, phrase, or a sentence.\n",
    "\n",
    "* Convert the cell below to markdown cell and execute it.\n"
   ]
  },
  {
   "cell_type": "code",
   "execution_count": null,
   "id": "129c143e-9fde-4295-bbef-64b9b3c17801",
   "metadata": {},
   "outputs": [],
   "source": [
    "# Execute it as a markdown cell\n",
    "**Bold Text using asterisks.**  \n",
    "__Bold Text using underscores.__"
   ]
  },
  {
   "cell_type": "markdown",
   "id": "286aa79b-ce0b-403c-b4d7-b9bb2c0f854c",
   "metadata": {},
   "source": [
    "### Italic Text\n",
    "\n",
    "* You can display text in italics by adding a single asterisk or underscore before and after a word, phrase, or a sentence.\n",
    "\n",
    "* Convert the cell below to markdown cell and execute it.\n"
   ]
  },
  {
   "cell_type": "markdown",
   "id": "4c166fc5-1d05-4f92-8296-48dbc0821ee4",
   "metadata": {},
   "source": [
    "# Execute it as a markdown cell\n",
    "*Text in italics using asterisk.*  \n",
    "_Text in italics using underscore._\n"
   ]
  },
  {
   "cell_type": "markdown",
   "id": "68b7545c-173e-4384-bfd4-531f3c7d1c1b",
   "metadata": {},
   "source": [
    "### Bold and Italic text\n",
    "* You can display text in both bold and italic style at the same time by adding a three asterisks or underscores before and after a word,phrase or a sentence.\n",
    "\n",
    "* Convert the cell below to markdown cell and execute it.\n"
   ]
  },
  {
   "cell_type": "code",
   "execution_count": null,
   "id": "246ca238-2a45-44e0-933a-1dd6a36a7020",
   "metadata": {},
   "outputs": [],
   "source": [
    "# Execute it as a markdown cell\n",
    "***Bold and Italic text using asterisks.***  \n",
    "___Bold and Italic text using underscores.___"
   ]
  },
  {
   "cell_type": "markdown",
   "id": "4a10522d-dda3-41cc-9d27-f368b8424f29",
   "metadata": {},
   "source": [
    "# Exercise 3\n",
    "### Insert links and images using Markdown\n",
    "\n",
    "* Hyperlinks\n",
    "* Images\n"
   ]
  },
  {
   "cell_type": "markdown",
   "id": "66f8dda1-f554-486d-9c7e-85c4facb1bf1",
   "metadata": {},
   "source": [
    "### Hyperlinks\n",
    "You can create a **hyperlink** in the following format.\n",
    "\n",
    "<img src=\"https://raw.githubusercontent.com/Lakshmiholla-2808/first/main/hyper1.png\">\n",
    "\n",
    "* **Name of the link** is the clickable link text\n",
    "* **Link url** is the web address of the url which will be directed on clicking the link.\n",
    "* To display a clickable link without a name, enclose the link in angle brackets.\n",
    "&lt;https://skills.network/ &gt;\n",
    "\n",
    "_Convert the code cell below to a markdown cell. Then create a hyperlink to the webpage **https://skills.network** with the **Name of the Link** as \"Skills Network\". Then execute the code._\n"
   ]
  },
  {
   "cell_type": "code",
   "execution_count": null,
   "id": "24981fcc-6956-4d07-a1dd-abe7c6731363",
   "metadata": {},
   "outputs": [],
   "source": [
    "# Execute it as a markdown cell\n",
    "[Skills Network](https://skills.network/) "
   ]
  },
  {
   "cell_type": "markdown",
   "id": "299c3ea0-8040-4bae-a061-434f4cfebcf9",
   "metadata": {},
   "source": [
    "### Images\n",
    "\n",
    "Images can be rendered in the following format.\n",
    "     \n",
    "<img src=\"https://cf-courses-data.s3.us.cloud-object-storage.appdomain.cloud/IBMDeveloperSkillsNetwork-DS0105EN-SkillsNetwork/labs/Labs_V4/images/image.png\">\n",
    "\n",
    "Convert the cell below to markdown cell and execute it.\n"
   ]
  },
  {
   "cell_type": "code",
   "execution_count": null,
   "id": "c60e37bc-e05d-41a0-8a57-0cf5e009a35e",
   "metadata": {},
   "outputs": [],
   "source": [
    "# Execute it as a markdown cell\n",
    "LOGO: ![This is the skills network logo](https://cf-courses-data.s3.us.cloud-object-storage.appdomain.cloud/assets/logos/SN_web_lightmode.png)"
   ]
  },
  {
   "cell_type": "markdown",
   "id": "dc49bfe2-f1c0-4eee-b732-e30c945f3523",
   "metadata": {},
   "source": [
    "# Exercise 4 \n",
    "\n",
    "### Create Tables in Markdown\n",
    "\n",
    "To create tables, use: \n",
    "* **hyphens** <code>(----)</code> for column headers \n",
    "* **pipes** <code>|</code> to separate each column\n",
    "* **Text on a new line** to separate each row\n",
    "\n",
    "<img src=\"https://cf-courses-data.s3.us.cloud-object-storage.appdomain.cloud/IBMDeveloperSkillsNetwork-DS0105EN-SkillsNetwork/labs/Labs_V4/images/tabledisp.png\">\n",
    "\n",
    "_Convert the code cell below to a markdown cell. Then recreate the example table above and execute the code._\n"
   ]
  },
  {
   "cell_type": "code",
   "execution_count": null,
   "id": "8aca9f3e-d52e-4362-9c28-5a2fc83c0ed4",
   "metadata": {},
   "outputs": [],
   "source": [
    "## Execute as a markdown cell\n",
    "\n",
    "| Country Name | Capital |\n",
    "| -------------| ------ |\n",
    "| United States | Washington DC |\n",
    "| Australia | Canberra |\n",
    "| India | New Delhi |"
   ]
  },
  {
   "cell_type": "markdown",
   "id": "5a04b02a-2e53-45e3-a655-773a879ff623",
   "metadata": {},
   "source": [
    "A table is created with <code>1</code> heading row, <code>3</code> body rows, and <code>2</code> columns.\n"
   ]
  },
  {
   "cell_type": "markdown",
   "id": "d3e251c9-9f91-46fe-b92b-90ef83b35a06",
   "metadata": {},
   "source": [
    "# Exercise 4 \n",
    "\n",
    "### Create ordered and unordered lists in Markdown\n",
    "\n",
    "#### Unordered List\n",
    "\n",
    "An unordered list is also referred to as a **bulleted list**.\n",
    "\n",
    "You can create an unordered list by adding **dashes (-), asterisks (*), or plus signs (+)** in front of line items.\n",
    "\n",
    "<img src=\"https://cf-courses-data.s3.us.cloud-object-storage.appdomain.cloud/IBMDeveloperSkillsNetwork-DS0105EN-SkillsNetwork/labs/Labs_V4/images/unordered.png\">\n",
    "\n",
    "_Convert the code cell below to a markdown cell. Then recreate the unordered list displayed above using **dashes (-), asterisks (*),** and **plus signs (+).** Then execute the code._\n"
   ]
  },
  {
   "cell_type": "code",
   "execution_count": null,
   "id": "ab81f4cb-920e-4f0d-9417-3557052b0f26",
   "metadata": {},
   "outputs": [],
   "source": [
    "# Execute as a markdown cell\n",
    "- First item using dashes\n",
    "- Second item using dashes\n",
    "- Third item using dashes\n",
    "- Fourth item using dashes\n",
    "\n",
    "* First item using asterisks\n",
    "* Second item using asterisks\n",
    "* Third item using asterisks\n",
    "* Fourth item using asterisks\n",
    "\n",
    "+ First item using plus\n",
    "+ Second item using plus\n",
    "+ Third item using plus\n",
    "+ Fourth item using plus"
   ]
  },
  {
   "cell_type": "markdown",
   "id": "abd50725-94c6-4e64-9eaf-a9a08369ca49",
   "metadata": {},
   "source": [
    "\n",
    "#### Ordered List\n",
    "\n",
    "We can create an ordered list by adding line items with **numbers** followed by **periods**.\n",
    "\n",
    " <img src=\"https://cf-courses-data.s3.us.cloud-object-storage.appdomain.cloud/IBMDeveloperSkillsNetwork-DS0105EN-SkillsNetwork/labs/Labs_V4/images/list.png\">\n",
    "\n",
    "_Convert the code cell below to a markdown cell. Then recreate the ordered list displayed above and execute the code._\n"
   ]
  },
  {
   "cell_type": "code",
   "execution_count": null,
   "id": "ecb2c793-a337-4b2d-87be-332e64ecd826",
   "metadata": {},
   "outputs": [],
   "source": [
    "# Execute as a markdown cell\n",
    "1. First item\n",
    "2. Second item\n",
    "3. Third item\n",
    "4. Fourth item\n"
   ]
  },
  {
   "cell_type": "markdown",
   "id": "a26ebe40-6ecb-47a5-b8b7-abb68fa6fa28",
   "metadata": {},
   "source": [
    "# Practice Exercises\n",
    "\n",
    "### Demonstrate your proficiency in using Markdown in Jupyter notebooks\n"
   ]
  },
  {
   "cell_type": "markdown",
   "id": "dfc8da7e-f91b-4870-928d-74283b7080af",
   "metadata": {},
   "source": [
    "#### Task 1: Create **H2 level heading** as **Welcome to Python programming** and add the image from the following **url** with alt text as **This is SN labs New Launcher**\n",
    "\n",
    "_https://cf-courses-data.s3.us.cloud-object-storage.appdomain.cloud/IBMDeveloperSkillsNetwork-DS0105EN-SkillsNetwork/labs/Labs_V4/images/Launcher.png_\n"
   ]
  },
  {
   "cell_type": "code",
   "execution_count": null,
   "id": "6ea1d639-4b0f-4da5-a374-cf087ec63ba4",
   "metadata": {},
   "outputs": [],
   "source": [
    "## Write your markdown here"
   ]
  },
  {
   "cell_type": "markdown",
   "id": "2e80c966-c0c8-4401-a2f9-2abfea7f64fc",
   "metadata": {},
   "source": [
    "<details><summary>Click here for the solution</summary>\n",
    "\n",
    "```python\n",
    "## Welcome to Python programming\n",
    "Launcher:![This is SN labs New Launcher](https://cf-courses-data.s3.us.cloud-object-storage.appdomain.cloud/IBMDeveloperSkillsNetwork-DS0105EN-SkillsNetwork/labs/Labs_V4/images/Launcher.png)\n",
    "\n",
    "```\n",
    "Output look as:\n",
    "\n",
    "<img src=\"https://cf-courses-data.s3.us.cloud-object-storage.appdomain.cloud/IBMDeveloperSkillsNetwork-DS0105EN-SkillsNetwork/labs/Labs_V4/images/Launcheroutput.png\">\n",
    "\n",
    "</details>\n",
    "\n"
   ]
  },
  {
   "cell_type": "markdown",
   "id": "30828bd2-0c74-43d3-886f-8367a2f4455f",
   "metadata": {},
   "source": [
    "#### Task 2: Create a hyperlink to <code>https://www.coursera.org/learn/open-source-tools-for-data-science/home</code> with the **Name of the link** as \"Tools For Data Science\".\n"
   ]
  },
  {
   "cell_type": "code",
   "execution_count": null,
   "id": "8a9c5990-63f2-4647-bf58-2eb2efea3593",
   "metadata": {},
   "outputs": [],
   "source": [
    "# Write your markdown here"
   ]
  },
  {
   "cell_type": "markdown",
   "id": "19f55259-4221-4699-97aa-5da0a9c61207",
   "metadata": {},
   "source": [
    "<details><summary>Click here for the solution</summary>\n",
    "\n",
    "```\n",
    "<a href =\"https://www.coursera.org/learn/open-source-tools-for-data-science/home/\">Tools For Data Science</a> \n",
    "    \n",
    "```\n",
    "\n",
    "</details>\n"
   ]
  },
  {
   "cell_type": "markdown",
   "id": "e5d6b1e0-3221-4ab8-ab7e-6f114bae8385",
   "metadata": {},
   "source": [
    "#### Task 3: Create the following table:\n",
    "\n",
    " <img src=\"https://cf-courses-data.s3.us.cloud-object-storage.appdomain.cloud/IBMDeveloperSkillsNetwork-DS0105EN-SkillsNetwork/labs/Labs_V4/images/table.png\">\n"
   ]
  },
  {
   "cell_type": "code",
   "execution_count": null,
   "id": "fb57825f-ff7f-4d1b-b05c-b9abeb6173a6",
   "metadata": {},
   "outputs": [],
   "source": [
    "# Write your markdown here"
   ]
  },
  {
   "cell_type": "markdown",
   "id": "6001b25e-00e0-447c-a5da-31f25824c51c",
   "metadata": {},
   "source": [
    "<details><summary>Click here for the solution</summary>\n",
    "\n",
    "```\n",
    "|Fruits | Quantity(Kg) | Price(In Rupee) | \n",
    "| ------ | ------ | ------ | \n",
    "| Apple | 2 |500|\n",
    "|Orange | 1 |200|\n",
    "| Mango | 3 |1000|\n",
    "| Grapes | 2 |400|\n",
    "\n",
    "    \n",
    "```\n",
    "\n",
    "</details>\n"
   ]
  },
  {
   "cell_type": "markdown",
   "id": "459d019f-eb11-4b33-b054-e1bcf40af041",
   "metadata": {},
   "source": [
    "#### Task 4: Create the following ordered list:\n",
    "\n",
    "<img src=\"https://cf-courses-data.s3.us.cloud-object-storage.appdomain.cloud/IBMDeveloperSkillsNetwork-DS0105EN-SkillsNetwork/labs/Labs_V4/images/order1.png\">\n"
   ]
  },
  {
   "cell_type": "code",
   "execution_count": null,
   "id": "00c27ca6-4273-48f5-ad79-3eb05a82f7a4",
   "metadata": {},
   "outputs": [],
   "source": [
    "# Write your markdown here"
   ]
  },
  {
   "cell_type": "markdown",
   "id": "ebedc6c3-bb5d-4477-a829-c05ba9fc0f71",
   "metadata": {},
   "source": [
    "<details><summary>Click here for the solution</summary>\n",
    "\n",
    "```\n",
    "1. Python\n",
    "2. Java\n",
    "3. C++\n",
    "4. C   \n",
    "```\n",
    "\n",
    "</details>\n"
   ]
  },
  {
   "cell_type": "markdown",
   "id": "f65c3fa6-595c-4c36-a49a-131e96519f4b",
   "metadata": {},
   "source": [
    "_You can find more rules for Markdown formatting in this Markdown Cheatsheet: https://github.com/adam-p/markdown-here/wiki/Markdown-Cheatsheet_\n"
   ]
  },
  {
   "cell_type": "markdown",
   "id": "bf1f27a0-a112-4659-9742-9bd914e87374",
   "metadata": {},
   "source": [
    "###  Thank you for completing this lab!\n",
    "\n"
   ]
  },
  {
   "cell_type": "markdown",
   "id": "be8c1fad-412a-45da-b4af-60cb491a2518",
   "metadata": {},
   "source": [
    "## Author\n",
    "\n",
    "[Lakshmi Holla](https://www.linkedin.com/in/lakshmi-holla-b39062149/) \n",
    "\n",
    "[Malika Singla](https://www.linkedin.com/in/malika-goyal-04798622/)\n",
    "\n",
    "\n",
    "## Change Log\n",
    "\n",
    "| Date (YYYY-MM-DD) | Version | Changed By | Change Description                 |\n",
    "| ----------------- | ------- | ---------- | ---------------------------------- |\n",
    "| 2022-09-30        | 0.1     | Lakshmi Holla     | Created Initial version    |\n",
    "\n",
    "\n",
    "## <h3 align=\"center\"> © IBM Corporation 2022. All rights reserved. <h3/>\n"
   ]
  }
 ],
 "metadata": {
  "kernelspec": {
   "display_name": "Python 3 (ipykernel)",
   "language": "python",
   "name": "python3"
  },
  "language_info": {
   "codemirror_mode": {
    "name": "ipython",
    "version": 3
   },
   "file_extension": ".py",
   "mimetype": "text/x-python",
   "name": "python",
   "nbconvert_exporter": "python",
   "pygments_lexer": "ipython3",
   "version": "3.11.5"
  }
 },
 "nbformat": 4,
 "nbformat_minor": 4
}
